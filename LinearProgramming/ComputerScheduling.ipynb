{
 "cells": [
  {
   "cell_type": "markdown",
   "id": "76480cf1",
   "metadata": {
    "id": "76480cf1"
   },
   "source": [
    "# Staff Scheduling\n",
    "This is a solution to Exercise 3.4-14 from *Introduction to Operations Research*, 11th edition, by Hillier and Lieberman.\n",
    "\n",
    "A university needs to staff a computer lab.  There are six workers, each with their own pay scale, minimum hours of work per week they are guaranteed to have, and number of hours available to work on those days.\n",
    "\n",
    "| Workers      | Wage | Minimum Hours | Monday | Tuesday | Wednesday | Thursday | Friday\n",
    "| ----------- | ----------- | --- | --- | --- | --- | --- | --- |\n",
    "| KC | 25 | 8 | 6 | 0 | 6 | 0 | 6 |\n",
    "| DH | 26 | 8 | 0 | 6 | 0 | 6 | 0 |\n",
    "| HB | 24 | 8 | 4 | 8 | 4 | 0 | 4 |\n",
    "| SC | 23 | 8 | 5 | 5 | 5 | 0 | 5 |\n",
    "| KS | 28 | 7 | 3 | 0 | 3 | 8 | 0 |\n",
    "| NK | 30 | 7 | 0 | 0 | 0 | 6 | 2 |\n",
    "\n",
    "The lab needs to be staffed 14 hours a day a staff member.  The university wishes to minimize the total wages.\n"
   ]
  },
  {
   "cell_type": "code",
   "execution_count": 8,
   "id": "f3109a00",
   "metadata": {
    "colab": {
     "base_uri": "https://localhost:8080/",
     "height": 350
    },
    "executionInfo": {
     "elapsed": 702,
     "status": "error",
     "timestamp": 1675130249143,
     "user": {
      "displayName": "Stephen Quinn",
      "userId": "11670339702069028025"
     },
     "user_tz": 360
    },
    "id": "f3109a00",
    "outputId": "c93c78d1-cbd0-4979-efb3-8f7ef582bf2f"
   },
   "outputs": [],
   "source": [
    "# !pip install -q pulp\n",
    "import pandas as pd\n",
    "import numpy as np\n",
    "import pulp as pl"
   ]
  },
  {
   "cell_type": "markdown",
   "id": "a7514ef6-2dba-4747-9a9b-b53b13e5f0cd",
   "metadata": {},
   "source": [
    "We build the model to be solved using `PuLP`."
   ]
  },
  {
   "cell_type": "code",
   "execution_count": 9,
   "id": "5dfee8f9",
   "metadata": {
    "executionInfo": {
     "elapsed": 4,
     "status": "aborted",
     "timestamp": 1675130249144,
     "user": {
      "displayName": "Stephen Quinn",
      "userId": "11670339702069028025"
     },
     "user_tz": 360
    },
    "id": "5dfee8f9"
   },
   "outputs": [
    {
     "data": {
      "text/html": [
       "<div>\n",
       "<style scoped>\n",
       "    .dataframe tbody tr th:only-of-type {\n",
       "        vertical-align: middle;\n",
       "    }\n",
       "\n",
       "    .dataframe tbody tr th {\n",
       "        vertical-align: top;\n",
       "    }\n",
       "\n",
       "    .dataframe thead th {\n",
       "        text-align: right;\n",
       "    }\n",
       "</style>\n",
       "<table border=\"1\" class=\"dataframe\">\n",
       "  <thead>\n",
       "    <tr style=\"text-align: right;\">\n",
       "      <th></th>\n",
       "      <th>Wage</th>\n",
       "      <th>Hours</th>\n",
       "      <th>Monday</th>\n",
       "      <th>Tuesday</th>\n",
       "      <th>Wednesday</th>\n",
       "      <th>Thursday</th>\n",
       "      <th>Friday</th>\n",
       "    </tr>\n",
       "    <tr>\n",
       "      <th>Workers</th>\n",
       "      <th></th>\n",
       "      <th></th>\n",
       "      <th></th>\n",
       "      <th></th>\n",
       "      <th></th>\n",
       "      <th></th>\n",
       "      <th></th>\n",
       "    </tr>\n",
       "  </thead>\n",
       "  <tbody>\n",
       "    <tr>\n",
       "      <th>KC</th>\n",
       "      <td>25</td>\n",
       "      <td>8</td>\n",
       "      <td>6</td>\n",
       "      <td>0</td>\n",
       "      <td>6</td>\n",
       "      <td>0</td>\n",
       "      <td>6</td>\n",
       "    </tr>\n",
       "    <tr>\n",
       "      <th>DH</th>\n",
       "      <td>26</td>\n",
       "      <td>8</td>\n",
       "      <td>0</td>\n",
       "      <td>6</td>\n",
       "      <td>0</td>\n",
       "      <td>6</td>\n",
       "      <td>0</td>\n",
       "    </tr>\n",
       "    <tr>\n",
       "      <th>HB</th>\n",
       "      <td>24</td>\n",
       "      <td>8</td>\n",
       "      <td>4</td>\n",
       "      <td>8</td>\n",
       "      <td>4</td>\n",
       "      <td>0</td>\n",
       "      <td>4</td>\n",
       "    </tr>\n",
       "    <tr>\n",
       "      <th>SC</th>\n",
       "      <td>23</td>\n",
       "      <td>8</td>\n",
       "      <td>5</td>\n",
       "      <td>5</td>\n",
       "      <td>5</td>\n",
       "      <td>0</td>\n",
       "      <td>5</td>\n",
       "    </tr>\n",
       "    <tr>\n",
       "      <th>KS</th>\n",
       "      <td>28</td>\n",
       "      <td>7</td>\n",
       "      <td>3</td>\n",
       "      <td>0</td>\n",
       "      <td>3</td>\n",
       "      <td>8</td>\n",
       "      <td>0</td>\n",
       "    </tr>\n",
       "    <tr>\n",
       "      <th>NK</th>\n",
       "      <td>30</td>\n",
       "      <td>7</td>\n",
       "      <td>0</td>\n",
       "      <td>0</td>\n",
       "      <td>0</td>\n",
       "      <td>6</td>\n",
       "      <td>2</td>\n",
       "    </tr>\n",
       "  </tbody>\n",
       "</table>\n",
       "</div>"
      ],
      "text/plain": [
       "         Wage  Hours  Monday  Tuesday  Wednesday  Thursday  Friday\n",
       "Workers                                                           \n",
       "KC         25      8       6        0          6         0       6\n",
       "DH         26      8       0        6          0         6       0\n",
       "HB         24      8       4        8          4         0       4\n",
       "SC         23      8       5        5          5         0       5\n",
       "KS         28      7       3        0          3         8       0\n",
       "NK         30      7       0        0          0         6       2"
      ]
     },
     "execution_count": 9,
     "metadata": {},
     "output_type": "execute_result"
    }
   ],
   "source": [
    "workers = [\"KC\", \"DH\", \"HB\", \"SC\", \"KS\", \"NK\"]\n",
    "wage = [25, 26, 24, 23, 28, 30]\n",
    "min_hours = [8, 8, 8, 8, 7, 7]\n",
    "monday = [6, 0, 4, 5, 3, 0]\n",
    "tuesday = [0, 6, 8, 5, 0, 0]\n",
    "wednesday = [6, 0, 4, 5, 3, 0]\n",
    "thursday = [0, 6, 0, 0, 8, 6]\n",
    "friday = [6, 0, 4, 5, 0, 2]\n",
    "\n",
    "data = {'Workers': workers,\n",
    "       'Wage': wage,\n",
    "       'Hours': min_hours,\n",
    "       'Monday' : monday,\n",
    "       'Tuesday': tuesday,\n",
    "       'Wednesday': wednesday,\n",
    "       'Thursday': thursday,\n",
    "       'Friday': friday}\n",
    "\n",
    "days = [\"Monday\", \"Tuesday\", \"Wednesday\", \"Thursday\", \"Friday\"]\n",
    "\n",
    "info = pd.DataFrame(data = data)\n",
    "info.set_index('Workers', inplace = True)\n",
    "info"
   ]
  },
  {
   "cell_type": "markdown",
   "id": "809c0883-794e-43da-9762-24703185f427",
   "metadata": {},
   "source": [
    "We create a `schedule` variable, which consists of a value $x_{ij}$ for how many hours staffer $i$ is scheduled to work on day $j$."
   ]
  },
  {
   "cell_type": "code",
   "execution_count": 10,
   "id": "38b97cdf",
   "metadata": {
    "id": "38b97cdf"
   },
   "outputs": [],
   "source": [
    "# Use the following code to ensure the solution integer valued.\n",
    "# schedule = pl.LpVariable.dicts(\"Schedule\", (workers, days), \n",
    "#                               lowBound = 0, \n",
    "#                               cat =  pl.LpInteger) \n",
    "schedule = pl.LpVariable.dicts(\"Schedule\", (workers, days), \n",
    "                               lowBound = 0)"
   ]
  },
  {
   "cell_type": "markdown",
   "id": "9e200f14-01c8-4696-ade9-b71565b6dcf9",
   "metadata": {},
   "source": [
    "Let $W$ denote the set of workers, $D$ the days to be scheduled, $c_i$ the wage for worker $i$, $h_i$ the minimum number of hours worker $i$ is scheduled to work, $A_{ij}$ the number of hours worker $i$ is available to work on day $j$.\n",
    "\n",
    "The problem is thus: \\\n",
    "**Minimize:** $$Z = \\sum_{i \\in W} \\sum_{j \\in D} c_i x_{ij}$$\n",
    "**Subject To:** \\\n",
    "Availability Contraint: $$ X \\le A$$\n",
    "Minimum Hours Constraint:\n",
    "$$ \\sum_{j \\in D} x_{ij} \\ge h_i, \\quad i \\in W$$\n",
    "Fully Scheduled Constraint:\n",
    "$$ \\sum_{i \\in W} x_{ij} = 14, \\quad j \\in D$$\n",
    "Nonnegativity:\n",
    "$$x_{ij} \\ge 0$$\n",
    "\n",
    "Note that with the equality in the Fully Scheduled Constraint, a solution may not exist (Consider if each worker is to be scheduled 14 hours per week, then some workers may need to be in the lab at the same time).  To guarantee a solution, use $>=$ instead of $=$.\n"
   ]
  },
  {
   "cell_type": "code",
   "execution_count": 11,
   "id": "e7003a5b",
   "metadata": {
    "id": "e7003a5b"
   },
   "outputs": [],
   "source": [
    "model = pl.LpProblem(\"Scheduling\", pl.LpMinimize)\n",
    "\n",
    "model += pl.lpSum([schedule[worker][day] for day in days] * info.at[worker,'Wage'] for worker in workers)\n",
    "\n",
    "for worker in workers:\n",
    "    for day in days:\n",
    "        model += schedule[worker][day] <= info.at[worker,day], \"Availability\"+worker+day\n",
    "        \n",
    "for worker in workers:\n",
    "    model += pl.lpSum([schedule[worker][day] for day in days]) >= info.at[worker,\"Hours\"], \"FullyEmployed\"+worker\n",
    "\n",
    "for day in days:\n",
    "    model += pl.lpSum([schedule[worker][day] for worker in workers]) == 14, \"FullyScheduled\"+day\n",
    "\n",
    "# model"
   ]
  },
  {
   "cell_type": "code",
   "execution_count": 12,
   "id": "a35c684f",
   "metadata": {
    "id": "a35c684f",
    "outputId": "c32f42ad-84e5-4967-b37f-acbd12da7c1e"
   },
   "outputs": [
    {
     "name": "stdout",
     "output_type": "stream",
     "text": [
      "Welcome to the CBC MILP Solver \n",
      "Version: 2.10.3 \n",
      "Build Date: Dec 15 2019 \n",
      "\n",
      "command line - /Users/stephen/opt/anaconda3/lib/python3.9/site-packages/pulp/solverdir/cbc/osx/64/cbc /var/folders/x7/cj8wflhs4zq8nnyb67b_rgr40000gn/T/fc861a6b50014d29b256765ebe0e6845-pulp.mps timeMode elapsed branch printingOptions all solution /var/folders/x7/cj8wflhs4zq8nnyb67b_rgr40000gn/T/fc861a6b50014d29b256765ebe0e6845-pulp.sol (default strategy 1)\n",
      "At line 2 NAME          MODEL\n",
      "At line 3 ROWS\n",
      "At line 46 COLUMNS\n",
      "At line 167 RHS\n",
      "At line 209 BOUNDS\n",
      "At line 210 ENDATA\n",
      "Problem MODEL has 41 rows, 30 columns and 90 elements\n",
      "Coin0008I MODEL read with 0 errors\n",
      "Option for timeMode changed from cpu to elapsed\n",
      "Presolve 11 (-30) rows, 18 (-12) columns and 36 (-54) elements\n",
      "0  Obj 669.79995 Primal inf 64.599993 (11)\n",
      "11  Obj 1755\n",
      "Optimal - objective value 1755\n",
      "After Postsolve, objective 1755, infeasibilities - dual 0 (0), primal 0 (0)\n",
      "Optimal objective 1755 - 11 iterations time 0.002, Presolve 0.00\n",
      "Option for printingOptions changed from normal to all\n",
      "Total time (CPU seconds):       0.00   (Wallclock seconds):       0.00\n",
      "\n",
      "The result of solving the model: Optimal\n"
     ]
    }
   ],
   "source": [
    "print(\"The result of solving the model:\", pl.LpStatus[model.solve()])"
   ]
  },
  {
   "cell_type": "markdown",
   "id": "56dbe68e-9203-4cc1-afae-bd574b1a0525",
   "metadata": {},
   "source": [
    "A solution was found for the problem that is optimal, one which requires the following minimum total wages:"
   ]
  },
  {
   "cell_type": "code",
   "execution_count": 13,
   "id": "d03d0ec1",
   "metadata": {
    "id": "d03d0ec1",
    "outputId": "3ccb713f-5e39-42c3-b6ba-7114c2014144"
   },
   "outputs": [
    {
     "name": "stdout",
     "output_type": "stream",
     "text": [
      "Total Wages: $1755.00\n"
     ]
    }
   ],
   "source": [
    "print(f\"Total Wages: ${pl.value(model.objective):.2f}\")"
   ]
  },
  {
   "cell_type": "markdown",
   "id": "39d773c0-8d0b-4207-9119-5941b924efa9",
   "metadata": {},
   "source": [
    "We see the final schedule for the workers in the table below.  Note that the solution may not be unique."
   ]
  },
  {
   "cell_type": "code",
   "execution_count": 16,
   "id": "54a295cc",
   "metadata": {
    "id": "54a295cc",
    "outputId": "35e62156-0d91-47e5-fcce-0eabfecf3914"
   },
   "outputs": [
    {
     "data": {
      "text/html": [
       "<div>\n",
       "<style scoped>\n",
       "    .dataframe tbody tr th:only-of-type {\n",
       "        vertical-align: middle;\n",
       "    }\n",
       "\n",
       "    .dataframe tbody tr th {\n",
       "        vertical-align: top;\n",
       "    }\n",
       "\n",
       "    .dataframe thead th {\n",
       "        text-align: right;\n",
       "    }\n",
       "</style>\n",
       "<table border=\"1\" class=\"dataframe\">\n",
       "  <thead>\n",
       "    <tr style=\"text-align: right;\">\n",
       "      <th></th>\n",
       "      <th>Monday</th>\n",
       "      <th>Tuesday</th>\n",
       "      <th>Wednesday</th>\n",
       "      <th>Thursday</th>\n",
       "      <th>Friday</th>\n",
       "    </tr>\n",
       "  </thead>\n",
       "  <tbody>\n",
       "    <tr>\n",
       "      <th>KC</th>\n",
       "      <td>2.0</td>\n",
       "      <td>0.0</td>\n",
       "      <td>4.0</td>\n",
       "      <td>0.0</td>\n",
       "      <td>3.0</td>\n",
       "    </tr>\n",
       "    <tr>\n",
       "      <th>DH</th>\n",
       "      <td>0.0</td>\n",
       "      <td>2.0</td>\n",
       "      <td>0.0</td>\n",
       "      <td>6.0</td>\n",
       "      <td>0.0</td>\n",
       "    </tr>\n",
       "    <tr>\n",
       "      <th>HB</th>\n",
       "      <td>4.0</td>\n",
       "      <td>7.0</td>\n",
       "      <td>4.0</td>\n",
       "      <td>0.0</td>\n",
       "      <td>4.0</td>\n",
       "    </tr>\n",
       "    <tr>\n",
       "      <th>SC</th>\n",
       "      <td>5.0</td>\n",
       "      <td>5.0</td>\n",
       "      <td>5.0</td>\n",
       "      <td>0.0</td>\n",
       "      <td>5.0</td>\n",
       "    </tr>\n",
       "    <tr>\n",
       "      <th>KS</th>\n",
       "      <td>3.0</td>\n",
       "      <td>0.0</td>\n",
       "      <td>1.0</td>\n",
       "      <td>3.0</td>\n",
       "      <td>0.0</td>\n",
       "    </tr>\n",
       "    <tr>\n",
       "      <th>NK</th>\n",
       "      <td>0.0</td>\n",
       "      <td>0.0</td>\n",
       "      <td>0.0</td>\n",
       "      <td>5.0</td>\n",
       "      <td>2.0</td>\n",
       "    </tr>\n",
       "  </tbody>\n",
       "</table>\n",
       "</div>"
      ],
      "text/plain": [
       "    Monday  Tuesday  Wednesday  Thursday  Friday\n",
       "KC     2.0      0.0        4.0       0.0     3.0\n",
       "DH     0.0      2.0        0.0       6.0     0.0\n",
       "HB     4.0      7.0        4.0       0.0     4.0\n",
       "SC     5.0      5.0        5.0       0.0     5.0\n",
       "KS     3.0      0.0        1.0       3.0     0.0\n",
       "NK     0.0      0.0        0.0       5.0     2.0"
      ]
     },
     "execution_count": 16,
     "metadata": {},
     "output_type": "execute_result"
    }
   ],
   "source": [
    "final_schedule = {}\n",
    "for worker in workers:\n",
    "   final_schedule[worker] = [schedule[worker][day].varValue for day in days]\n",
    "fs = pd.DataFrame.from_dict(data = final_schedule, orient = 'index', columns = days)\n",
    "fs"
   ]
  },
  {
   "cell_type": "code",
   "execution_count": null,
   "id": "ce2024a4-50d2-4a20-a401-2ab4c43444fe",
   "metadata": {},
   "outputs": [],
   "source": []
  }
 ],
 "metadata": {
  "colab": {
   "provenance": []
  },
  "kernelspec": {
   "display_name": "Python 3 (ipykernel)",
   "language": "python",
   "name": "python3"
  },
  "language_info": {
   "codemirror_mode": {
    "name": "ipython",
    "version": 3
   },
   "file_extension": ".py",
   "mimetype": "text/x-python",
   "name": "python",
   "nbconvert_exporter": "python",
   "pygments_lexer": "ipython3",
   "version": "3.9.13"
  }
 },
 "nbformat": 4,
 "nbformat_minor": 5
}
