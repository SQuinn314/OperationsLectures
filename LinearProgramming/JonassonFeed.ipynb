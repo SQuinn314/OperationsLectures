{
 "cells": [
  {
   "cell_type": "markdown",
   "id": "823123a4-fe2f-4f33-a5d8-89037f2ab51d",
   "metadata": {},
   "source": [
    "# Jonasson Family Farm\n",
    "\n",
    "This contains an example solution of a Linear Programming problem.  It also contains some code to help understand accessing values stored in arrays and dataframes.\n",
    "\n",
    "## Prompt\n",
    "\n",
    "This is based on Exercise 3.5-4 in Hillier, 11e.\n",
    "\n",
    "> Fred Jonasson managed a family-owned farm.  To supplement several food products grown on the garm, Fred also raises pigs for market.  He now wishes to determine the quantities of the available types of feed (corn, tankage, and alfalfa) that should be given to each pig.\n",
    ">\n",
    "> Since pigs will any mix of these feed types, the objective is to determine which mix will meet certain nutritional requirements at a *minimum cost*.\n",
    "\n",
    "| Nutritional Ingredient | Kg of Corn | Kg of Tankage | Kg of Alfalfa | Minimum Daily Requirement |\n",
    "| -- | --- | --- | --- | --- |\n",
    "| Carbohydrates | 90 | 20 | 40 | 200 |\n",
    "| Protein | 30 | 80 | 60 | 180 |\n",
    "| Vitamins | 10 | 20 | 60 | 150 |\n",
    "| --- | --- | --- | --- | --- |\n",
    "| Cost | \\$10.50 | \\$9.00 | \\$7. 50 | |"
   ]
  },
  {
   "cell_type": "markdown",
   "id": "dfab8b50-59d6-4c3d-9624-21bb6b3be0e4",
   "metadata": {},
   "source": [
    "# Solution"
   ]
  },
  {
   "cell_type": "markdown",
   "id": "a53bab1c-fef5-430a-993b-17a8f9cf52db",
   "metadata": {},
   "source": [
    "Jonasson farm seeks to find the quantities of feed which minimizes the costs, while meeting minimum nutritional requirements for the pigs."
   ]
  },
  {
   "cell_type": "code",
   "execution_count": 1,
   "id": "be92aa42-2f70-49a2-82d4-5e2c6b8b72de",
   "metadata": {},
   "outputs": [],
   "source": [
    "# !pip install -q pulp\n",
    "import numpy as np\n",
    "import pandas as pd\n",
    "import pulp as pl"
   ]
  },
  {
   "cell_type": "code",
   "execution_count": 2,
   "id": "a9193fa7-edea-49f6-9ca8-2dc6821d07df",
   "metadata": {},
   "outputs": [],
   "source": [
    "feeds = [\"Corn\", \"Tankage\", \"Alfalfa\"]\n",
    "ingredients = [\"Carbs\", \"Protein\", \"Vitamins\"]\n",
    "\n",
    "# Each vector is Carbs, Protein, Vitamins, Costs \n",
    "corn = [90, 30, 10, 10.50]\n",
    "tankage = [20, 80, 20, 9]\n",
    "alfalfa = [40, 60, 60, 7.50]\n",
    "\n",
    "# Build a dataframe with each row being a vector of properties of a feed type.\n",
    "data = [corn, tankage, alfalfa]\n",
    "\n",
    "df = pd.DataFrame(data = data,\n",
    "                  index = feeds,\n",
    "                  columns = ingredients + [\"Cost\"]\n",
    "                 )\n",
    "\n",
    "# Build a dictionary of minimum requirements for each ingredient.\n",
    "minRequirements = [200, 180, 150]\n",
    "minReqDict = dict(zip(ingredients, minRequirements))\n",
    "# This can be created more directly with the following line:\n",
    "# minReqDict = {\"Carbs\": 200, \"Protein\": 180, \"Vitamins\": 150}"
   ]
  },
  {
   "cell_type": "markdown",
   "id": "1c39c3e8-e7a0-4168-bb96-9050ad50a6d3",
   "metadata": {},
   "source": [
    "The following table provides the amount of each ingredient and the cost per kilogram of ingredient."
   ]
  },
  {
   "cell_type": "code",
   "execution_count": 3,
   "id": "9429a3ed-e74e-441e-adc7-ebe32b4cee27",
   "metadata": {},
   "outputs": [
    {
     "data": {
      "text/html": [
       "<div>\n",
       "<style scoped>\n",
       "    .dataframe tbody tr th:only-of-type {\n",
       "        vertical-align: middle;\n",
       "    }\n",
       "\n",
       "    .dataframe tbody tr th {\n",
       "        vertical-align: top;\n",
       "    }\n",
       "\n",
       "    .dataframe thead th {\n",
       "        text-align: right;\n",
       "    }\n",
       "</style>\n",
       "<table border=\"1\" class=\"dataframe\">\n",
       "  <thead>\n",
       "    <tr style=\"text-align: right;\">\n",
       "      <th></th>\n",
       "      <th>Carbs</th>\n",
       "      <th>Protein</th>\n",
       "      <th>Vitamins</th>\n",
       "      <th>Cost</th>\n",
       "    </tr>\n",
       "  </thead>\n",
       "  <tbody>\n",
       "    <tr>\n",
       "      <th>Corn</th>\n",
       "      <td>90</td>\n",
       "      <td>30</td>\n",
       "      <td>10</td>\n",
       "      <td>10.5</td>\n",
       "    </tr>\n",
       "    <tr>\n",
       "      <th>Tankage</th>\n",
       "      <td>20</td>\n",
       "      <td>80</td>\n",
       "      <td>20</td>\n",
       "      <td>9.0</td>\n",
       "    </tr>\n",
       "    <tr>\n",
       "      <th>Alfalfa</th>\n",
       "      <td>40</td>\n",
       "      <td>60</td>\n",
       "      <td>60</td>\n",
       "      <td>7.5</td>\n",
       "    </tr>\n",
       "  </tbody>\n",
       "</table>\n",
       "</div>"
      ],
      "text/plain": [
       "         Carbs  Protein  Vitamins  Cost\n",
       "Corn        90       30        10  10.5\n",
       "Tankage     20       80        20   9.0\n",
       "Alfalfa     40       60        60   7.5"
      ]
     },
     "execution_count": 3,
     "metadata": {},
     "output_type": "execute_result"
    }
   ],
   "source": [
    "df"
   ]
  },
  {
   "cell_type": "markdown",
   "id": "175675b1-8c96-4272-a5e5-1a8efefc0a0a",
   "metadata": {},
   "source": [
    "The following table indicates the minimum requirements for each nutritional ingredient."
   ]
  },
  {
   "cell_type": "code",
   "execution_count": 4,
   "id": "a510da04-0f14-4e87-ad9e-b7acaa197bda",
   "metadata": {},
   "outputs": [
    {
     "data": {
      "text/html": [
       "<div>\n",
       "<style scoped>\n",
       "    .dataframe tbody tr th:only-of-type {\n",
       "        vertical-align: middle;\n",
       "    }\n",
       "\n",
       "    .dataframe tbody tr th {\n",
       "        vertical-align: top;\n",
       "    }\n",
       "\n",
       "    .dataframe thead th {\n",
       "        text-align: right;\n",
       "    }\n",
       "</style>\n",
       "<table border=\"1\" class=\"dataframe\">\n",
       "  <thead>\n",
       "    <tr style=\"text-align: right;\">\n",
       "      <th></th>\n",
       "      <th>Requirement</th>\n",
       "    </tr>\n",
       "  </thead>\n",
       "  <tbody>\n",
       "    <tr>\n",
       "      <th>Carbs</th>\n",
       "      <td>200</td>\n",
       "    </tr>\n",
       "    <tr>\n",
       "      <th>Protein</th>\n",
       "      <td>180</td>\n",
       "    </tr>\n",
       "    <tr>\n",
       "      <th>Vitamins</th>\n",
       "      <td>150</td>\n",
       "    </tr>\n",
       "  </tbody>\n",
       "</table>\n",
       "</div>"
      ],
      "text/plain": [
       "          Requirement\n",
       "Carbs             200\n",
       "Protein           180\n",
       "Vitamins          150"
      ]
     },
     "execution_count": 4,
     "metadata": {},
     "output_type": "execute_result"
    }
   ],
   "source": [
    "pd.DataFrame.from_dict(minReqDict, orient='index' , columns = [\"Requirement\"])"
   ]
  },
  {
   "cell_type": "markdown",
   "id": "5250d7ed-b5d8-414f-a5d7-2b48b57f8862",
   "metadata": {},
   "source": [
    "The decision variables $X_f$ are the number of kilograms of each feed type to purchase."
   ]
  },
  {
   "cell_type": "code",
   "execution_count": 5,
   "id": "2fae6708-1797-4c53-99b1-6ed0a133d7e0",
   "metadata": {},
   "outputs": [
    {
     "data": {
      "text/plain": [
       "{'Corn': X_Corn, 'Tankage': X_Tankage, 'Alfalfa': X_Alfalfa}"
      ]
     },
     "execution_count": 5,
     "metadata": {},
     "output_type": "execute_result"
    }
   ],
   "source": [
    "lpVars = pl.LpVariable.dict(\"X\", feeds, lowBound = 0)\n",
    "lpVars"
   ]
  },
  {
   "cell_type": "markdown",
   "id": "f0957159-b3d9-46bd-868a-f9e94fcd4b30",
   "metadata": {},
   "source": [
    "We set up our model.\n",
    "\n",
    "Let $F$ denote the set of feed types.  Let $I$ denote the set of nutritional ingredients.  $A = (a_{fi})$ denote the amount of nutritional ingredient $i \\in I$ in feed $f \\in F$. Let $C = (c_f)$, where $c_f$ is the cost of feed type $f \\in F$.  $M = (m_i)$, where $m_i$ is the minimum daily requirement of ingredient $i \\in I$.\n",
    "\n",
    "We wish to minimize $$\\sum_{f \\in F} C_f X_f$$\n",
    "subject to $$\\sum_{f \\in F} A_{fi} X_f \\ge M_i, \\quad i \\in I$$\n"
   ]
  },
  {
   "cell_type": "markdown",
   "id": "0fb63ef8-4a91-4c07-a1ca-a1c53681c693",
   "metadata": {},
   "source": [
    "The matrix $A$ is specifically"
   ]
  },
  {
   "cell_type": "code",
   "execution_count": 6,
   "id": "e2903233-2530-43ab-8e57-8030676c8e81",
   "metadata": {},
   "outputs": [
    {
     "data": {
      "text/plain": [
       "array([[90, 30, 10],\n",
       "       [20, 80, 20],\n",
       "       [40, 60, 60]], dtype=int64)"
      ]
     },
     "execution_count": 6,
     "metadata": {},
     "output_type": "execute_result"
    }
   ],
   "source": [
    "df[ingredients].to_numpy()"
   ]
  },
  {
   "cell_type": "markdown",
   "id": "eeea36f2-6b14-4ac7-b8ff-35c01649eb84",
   "metadata": {},
   "source": [
    "We now build our model."
   ]
  },
  {
   "cell_type": "code",
   "execution_count": 7,
   "id": "eb8d7943-546f-46cb-a748-96288a135b0a",
   "metadata": {},
   "outputs": [
    {
     "data": {
      "text/plain": [
       "Feed:\n",
       "MINIMIZE\n",
       "7.5*X_Alfalfa + 10.5*X_Corn + 9.0*X_Tankage + 0.0\n",
       "SUBJECT TO\n",
       "CarbsMinReq: 40 X_Alfalfa + 90 X_Corn + 20 X_Tankage >= 200\n",
       "\n",
       "ProteinMinReq: 60 X_Alfalfa + 30 X_Corn + 80 X_Tankage >= 180\n",
       "\n",
       "VitaminsMinReq: 60 X_Alfalfa + 10 X_Corn + 20 X_Tankage >= 150\n",
       "\n",
       "VARIABLES\n",
       "X_Alfalfa Continuous\n",
       "X_Corn Continuous\n",
       "X_Tankage Continuous"
      ]
     },
     "execution_count": 7,
     "metadata": {},
     "output_type": "execute_result"
    }
   ],
   "source": [
    "model = pl.LpProblem(\"Feed\", pl.LpMinimize)\n",
    "\n",
    "model += pl.lpSum( [ lpVars[feed] * df.at[feed, \"Cost\"] for feed in feeds])\n",
    "\n",
    "for ingredient in ingredients:\n",
    "    x = pl.lpSum([ lpVars[feed] * df.at[feed,ingredient] for feed in feeds])\n",
    "    model += x >= minReqDict[ingredient], ingredient+\"MinReq\"\n",
    "    \n",
    "model"
   ]
  },
  {
   "cell_type": "code",
   "execution_count": 8,
   "id": "ffbfbf6f-bc66-4055-8630-896776d77416",
   "metadata": {},
   "outputs": [
    {
     "name": "stdout",
     "output_type": "stream",
     "text": [
      "Optimal\n"
     ]
    }
   ],
   "source": [
    "status = model.solve()\n",
    "print(pl.LpStatus[status])"
   ]
  },
  {
   "cell_type": "code",
   "execution_count": 9,
   "id": "cdb8330d-20b6-4d82-8516-317d52f45a2f",
   "metadata": {},
   "outputs": [
    {
     "name": "stdout",
     "output_type": "stream",
     "text": [
      "X_Alfalfa  =  2.4285714\n",
      "X_Corn  =  1.1428571\n",
      "X_Tankage  =  0.0\n",
      "Total Cost: $30.21\n"
     ]
    }
   ],
   "source": [
    "for v in model.variables():\n",
    "  print(v.name, \" = \", v.varValue)\n",
    "print(f\"Total Cost: ${pl.value(model.objective):.2f}\")"
   ]
  },
  {
   "cell_type": "markdown",
   "id": "251d97f8-9b2d-432f-a21b-a9baea9f0eb1",
   "metadata": {},
   "source": [
    "From this, we conclude that farmer Jonasson should purchase 2.4 kilograms of Alfalfa and 1.14 kilograms of corn for each pig for a minimal cost of $30.21."
   ]
  },
  {
   "cell_type": "markdown",
   "id": "c87a2444-3d30-4229-91a4-cd00ec93e587",
   "metadata": {},
   "source": [
    "## Notational Comments"
   ]
  },
  {
   "cell_type": "markdown",
   "id": "11a2bf3f-160c-4f7e-96fa-56489cd87a8f",
   "metadata": {},
   "source": [
    "We have a few different ways of accessing values within the arrays/dataframes/dictionaries."
   ]
  },
  {
   "cell_type": "code",
   "execution_count": 10,
   "id": "9a851991-0bc8-4a32-872a-8efd2cbd163d",
   "metadata": {},
   "outputs": [
    {
     "data": {
      "text/plain": [
       "200"
      ]
     },
     "execution_count": 10,
     "metadata": {},
     "output_type": "execute_result"
    }
   ],
   "source": [
    "# Value of a dictionary\n",
    "minReqDict['Carbs']"
   ]
  },
  {
   "cell_type": "code",
   "execution_count": 11,
   "id": "25c32137-7f86-437e-89c9-b4d7cbf74b31",
   "metadata": {},
   "outputs": [
    {
     "data": {
      "text/plain": [
       "90"
      ]
     },
     "execution_count": 11,
     "metadata": {},
     "output_type": "execute_result"
    }
   ],
   "source": [
    "# Value in a dataframe as a specific row and column\n",
    "df.at['Corn','Carbs']"
   ]
  },
  {
   "cell_type": "code",
   "execution_count": 12,
   "id": "cfe02310-f212-4c41-9ac9-d91432200778",
   "metadata": {},
   "outputs": [
    {
     "data": {
      "text/plain": [
       "X_Corn"
      ]
     },
     "execution_count": 12,
     "metadata": {},
     "output_type": "execute_result"
    }
   ],
   "source": [
    "# Working with a specific variable\n",
    "lpVars[\"Corn\"]"
   ]
  },
  {
   "cell_type": "code",
   "execution_count": 13,
   "id": "9e10f800-00d3-465a-b9df-0c50fe225b71",
   "metadata": {},
   "outputs": [
    {
     "data": {
      "text/plain": [
       "Carbs       90.0\n",
       "Protein     30.0\n",
       "Vitamins    10.0\n",
       "Cost        10.5\n",
       "Name: Corn, dtype: float64"
      ]
     },
     "execution_count": 13,
     "metadata": {},
     "output_type": "execute_result"
    }
   ],
   "source": [
    "# To get a row of a dataframe, the output is a \"Series\"\n",
    "df.loc[\"Corn\"]"
   ]
  },
  {
   "cell_type": "code",
   "execution_count": 14,
   "id": "f19fbe41-2fa0-476b-ac3f-f7b9f6a55b1b",
   "metadata": {},
   "outputs": [
    {
     "data": {
      "text/plain": [
       "Corn       90\n",
       "Tankage    20\n",
       "Alfalfa    40\n",
       "Name: Carbs, dtype: int64"
      ]
     },
     "execution_count": 14,
     "metadata": {},
     "output_type": "execute_result"
    }
   ],
   "source": [
    "# To get the column of a dataframe\n",
    "df[\"Carbs\"]"
   ]
  },
  {
   "cell_type": "markdown",
   "id": "3504e46a-2b7f-4d37-8595-b095af06e54c",
   "metadata": {},
   "source": [
    "Note that type types of `ingredients` and `feeds` is a list."
   ]
  },
  {
   "cell_type": "code",
   "execution_count": 15,
   "id": "f5f11791-e1bf-4b20-a6b2-4ab4ce0fa399",
   "metadata": {},
   "outputs": [
    {
     "name": "stdout",
     "output_type": "stream",
     "text": [
      "['Carbs', 'Protein', 'Vitamins']\n",
      "['Corn', 'Tankage', 'Alfalfa']\n"
     ]
    }
   ],
   "source": [
    "print(ingredients)\n",
    "print(feeds)"
   ]
  },
  {
   "cell_type": "markdown",
   "id": "6b7c6e10-d0b0-454a-ad04-b7861d284cf3",
   "metadata": {},
   "source": [
    "You can easily loop through each item in a list."
   ]
  },
  {
   "cell_type": "code",
   "execution_count": 16,
   "id": "2eafdcc0-77d4-4c31-9830-3c544c0ae83e",
   "metadata": {},
   "outputs": [
    {
     "name": "stdout",
     "output_type": "stream",
     "text": [
      "Feed Item: Corn\n",
      "Feed Item: Tankage\n",
      "Feed Item: Alfalfa\n"
     ]
    }
   ],
   "source": [
    "for f in feeds:\n",
    "    print(\"Feed Item:\",f)"
   ]
  },
  {
   "cell_type": "markdown",
   "id": "ef2c7264-2508-4d12-882a-a55fb0a85075",
   "metadata": {},
   "source": [
    "You can also create lists with the `for` loop inside them.  Here, we will create a new list which has the \"Hello\" affixed to the front of each feed item."
   ]
  },
  {
   "cell_type": "code",
   "execution_count": 17,
   "id": "37db13c8-72fd-4fb6-8155-ecde33c61316",
   "metadata": {},
   "outputs": [
    {
     "data": {
      "text/plain": [
       "['HelloCorn', 'HelloTankage', 'HelloAlfalfa']"
      ]
     },
     "execution_count": 17,
     "metadata": {},
     "output_type": "execute_result"
    }
   ],
   "source": [
    "[\"Hello\" + f for f in feeds]"
   ]
  },
  {
   "cell_type": "markdown",
   "id": "a031af56-7a0a-4042-a4d6-86e769e5ee3a",
   "metadata": {},
   "source": [
    "This is useful for creating the products part of a dot product."
   ]
  },
  {
   "cell_type": "code",
   "execution_count": 18,
   "id": "499049da-83ed-46d9-9718-a96305f82b02",
   "metadata": {},
   "outputs": [
    {
     "name": "stdout",
     "output_type": "stream",
     "text": [
      "List of products: [90*X_Corn + 0, 20*X_Tankage + 0, 40*X_Alfalfa + 0]\n",
      "Sum of productsion: 40*X_Alfalfa + 90*X_Corn + 20*X_Tankage\n"
     ]
    }
   ],
   "source": [
    "x = [ lpVars[feed] * df.at[feed,\"Carbs\"] for feed in feeds]\n",
    "print(\"List of products:\", x)\n",
    "y = pl.lpSum(x)\n",
    "print(\"Sum of productsion:\", y)"
   ]
  }
 ],
 "metadata": {
  "kernelspec": {
   "display_name": "Python 3 (ipykernel)",
   "language": "python",
   "name": "python3"
  },
  "language_info": {
   "codemirror_mode": {
    "name": "ipython",
    "version": 3
   },
   "file_extension": ".py",
   "mimetype": "text/x-python",
   "name": "python",
   "nbconvert_exporter": "python",
   "pygments_lexer": "ipython3",
   "version": "3.9.13"
  }
 },
 "nbformat": 4,
 "nbformat_minor": 5
}
